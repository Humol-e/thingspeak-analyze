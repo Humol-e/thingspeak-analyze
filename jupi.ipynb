{
 "cells": [
  {
   "cell_type": "markdown",
   "metadata": {},
   "source": [
    "U¿Inicio\n"
   ]
  },
  {
   "cell_type": "code",
   "execution_count": 1,
   "metadata": {},
   "outputs": [
    {
     "name": "stdout",
     "output_type": "stream",
     "text": [
      "    Index  Organization Id                             Name                             Website                            Country                                                Description  Founded                                             Industry  Number of employees\n",
      "0       1  FAB0d41d5b5d22c                      Ferrell LLC                  https://price.net/                   Papua New Guinea                        Horizontal empowering knowledgebase     1990                                             Plastics                 3498\n",
      "1       2  6A7EdDEA9FaDC52          Mckinney, Riley and Day      http://www.hall-buchanan.info/                            Finland                        User-centric system-worthy leverage     2015                          Glass / Ceramics / Concrete                 4952\n",
      "2       3  0bFED1ADAE4bcC1                       Hester Ltd           http://sullivan-reed.com/                              China                             Switchable scalable moratorium     1971                                        Public Safety                 5287\n",
      "3       4  2bFC1Be8a4ce42f                   Holder-Sellers                 https://becker.com/                       Turkmenistan             De-engineered systemic artificial intelligence     2004                                           Automotive                  921\n",
      "4       5  9eE8A6a4Eb96C24                      Mayer Group              http://www.brewer.com/                          Mauritius                         Synchronized needs-based challenge     1991                                       Transportation                 7870\n",
      "5       6  cC757116fe1C085                   Henry-Thompson                   http://morse.net/                            Bahamas               Face-to-face well-modulated customer loyalty     1992                        Primary / Secondary Education                 4914\n",
      "6       7  219233e8aFF1BC3                   Hansen-Everett               https://www.kidd.org/                           Pakistan                     Seamless disintermediate collaboration     2018                                  Publishing Industry                 7832\n",
      "7       8  ccc93DCF81a31CD                    Mcintosh-Mora             https://www.brooks.com/  Heard Island and McDonald Islands                   Centralized attitude-oriented capability     1970                                      Import / Export                 4389\n",
      "8       9  0B4F93aA06ED03e                         Carr Inc                    http://ross.com/                             Kuwait                     Distributed impactful customer loyalty     1996                                             Plastics                 8167\n",
      "9      10  738b5aDe6B1C6A5                       Gaines Inc         http://sandoval-hooper.com/                         Uzbekistan                            Multi-lateral scalable protocol     1997                             Outsourcing / Offshoring                 9698\n",
      "10     11  AE61b8Ffebbc476                       Kidd Group               http://www.lyons.com/          Bouvet Island (Bouvetoya)                              Proactive foreground paradigm     2001                        Primary / Secondary Education                 7473\n",
      "11     12  eb3B7D06cCdD609                     Crane-Clarke           https://www.sandoval.com/                            Denmark                       Front-line clear-thinking encryption     2014                                     Food / Beverages                 9011\n",
      "12     13  8D0c29189C9798B         Keller, Campos and Black            https://www.garner.info/                            Liberia                          Ameliorated directional emulation     2020                               Museums / Institutions                 2862\n",
      "13     14  D2c91cc03CA394c                      Glover-Pope               http://www.silva.biz/               United Arab Emirates                    Persevering contextually-based approach     2013                                     Medical Practice                 9079\n",
      "14     15  C8AC1eaf9C036F4                   Pacheco-Spears                https://aguilar.com/                             Sweden                                 Secured logistical synergy     1984                                             Maritime                  769\n",
      "15     16  b5D10A14f7a8AfE                      Hodge-Ayers      http://www.archer-elliott.com/                           Honduras                      Future-proofed radical implementation     1990                                  Facilities Services                 8508\n",
      "16     17  68139b5C4De03B4        Bowers, Guerra and Krause  http://www.carrillo-nicholson.com/                             Uganda                        De-engineered transitional strategy     1972                        Primary / Secondary Education                 6986\n",
      "17     18  5c2EffEfdba2BdF                  Mckenzie-Melton        http://montoya-thompson.com/                          Hong Kong                      Reverse-engineered heuristic alliance     1998  Investment Management / Hedge Fund / Private Equity                 4589\n",
      "18     19  ba179F19F7925f5                      Branch-Mann              http://www.lozano.com/                           Botswana                                  Adaptive intangible frame     1999                              Architecture / Planning                 7961\n",
      "19     20  c1Ce9B350BAc66b                   Weiss and Sons                https://barrett.com/                              Korea                           Sharable optimal functionalities     2011                                             Plastics                 5984\n",
      "20     21  8de40AC4e6EaCa4          Velez, Payne and Coffey                  http://burton.com/                         Luxembourg                                 Mandatory coherent synergy     1986                                            Wholesale                 5010\n",
      "21     22  Aad86a4F0385F2d                      Harrell LLC        http://www.frey-rosario.com/                         Guadeloupe             Reverse-engineered mission-critical moratorium     2018                                         Construction                 2185\n",
      "22     23  22aC3FFd64fD703       Eaton, Reynolds and Vargas             http://www.freeman.biz/                             Monaco            Self-enabling multi-tasking process improvement     2014                               Luxury Goods / Jewelry                 8987\n",
      "23     24  5Ec4C272bCf085c                 Robbins-Cummings       http://donaldson-wilkins.com/                            Belgium                             Organic non-volatile hierarchy     1991                                      Pharmaceuticals                 5038\n",
      "24     25  5fDBeA8BB91a000                      Jenkins Inc                http://www.kirk.biz/                       South Africa                            Front-line systematic help-desk     2002                                            Insurance                 1215\n",
      "25     26  dFfD6a6F9AC2d9C       Greene, Benjamin and Novak                http://www.kent.net/                            Romania                         Centralized leadingedge moratorium     2012                               Museums / Institutions                 4941\n",
      "26     27  4B217cC5a0674C5       Dickson, Richmond and Clay                 http://everett.com/                     Czech Republic                          Team-oriented tangible complexity     1980                               Real Estate / Mortgage                 3122\n",
      "27     28  88b1f1cDcf59a37                     Prince-David                http://thompson.com/                   Christmas Island                               Virtual holistic methodology     1970                                   Banking / Mortgage                 1046\n",
      "28     29  f9F7bBCAEeC360F                        Ayala LLC               http://www.zhang.com/                        Philippines                  Open-source zero administration hierarchy     2021                                       Legal Services                 7664\n",
      "29     30  7Cb3AeFcE4Ba31e                      Rivas Group                 https://hebert.org/                          Australia                   Open-architected well-modulated capacity     1998                              Logistics / Procurement                 4155\n",
      "30     31  ccBcC32adcbc530        Sloan, Mays and Whitehead                  http://lawson.com/                               Chad                     Face-to-face high-level conglomeration     1997                                    Civil Engineering                  365\n",
      "31     32  f5afd686b3d05F5         Durham, Allen and Barnes           http://chan-stafford.org/                           Zimbabwe                          Synergistic web-enabled framework     1993                 Mechanical or Industrial Engineering                 6135\n",
      "32     33  38C6cfC5074Fa5e                   Fritz-Franklin             http://www.lambert.com/                              Nepal                            Automated 4thgeneration website     1972                                          Hospitality                 4516\n",
      "33     34  5Cd7efccCcba38f                      Burch-Ewing                   http://cline.net/                             Taiwan                   User-centric 4thgeneration system engine     1981                                 Venture Capital / VC                 7443\n",
      "34     35  9E6Acb51e3F9d6F        Glass, Barrera and Turner                 https://dunlap.com/                    Kyrgyz Republic                  Multi-channeled 3rdgeneration open system     2020                                            Utilities                 2610\n",
      "35     36  4D4d7E18321eaeC                       Pineda-Cox                 http://aguilar.org/                            Bolivia                        Fundamental asynchronous capability     2010                                 Human Resources / HR                 1312\n",
      "36     37  485f5d06B938F2b      Baker, Mccann and Macdonald     http://www.anderson-barker.com/                              Kenya                        Cross-group user-facing focus group     2013                                   Legislative Office                 1638\n",
      "37     38  19E3a5Bf6dBDc4F                      Cuevas-Moss       https://dodson-castaneda.net/                          Guatemala                           Extended human-resource intranet     1994                                                Music                 9995\n",
      "38     39  6883A965c7b68F7                         Hahn PLC                  http://newman.com/                            Belarus                                Organic logistical leverage     2012                Electrical / Electronic Manufacturing                 3715\n",
      "39     40  AC5B7AA74Aa4A2E   Valentine, Ferguson and Kramer                  http://stuart.net/                             Jersey                           Centralized secondary time-frame     1997                          Non - Profit / Volunteering                 3585\n",
      "40     41  decab0D5027CA6a                       Arroyo Inc             https://www.turner.com/                            Grenada                              Managed demand-driven website     2006                                    Writing / Editing                 9067\n",
      "41     42  dF084FbBb613eea                        Walls LLC       http://www.reese-vasquez.biz/                         Cape Verde                  Self-enabling fresh-thinking installation     1989  Investment Management / Hedge Fund / Private Equity                 1678\n",
      "42     43  A2D89Ab9bCcAd4e   Mitchell, Warren and Schneider                    https://fox.biz/                Trinidad and Tobago                             Enhanced intangible time-frame     2021        Capital Markets / Hedge Fund / Private Equity                 3816\n",
      "43     44  77aDc905434a49f                       Prince PLC              https://www.watts.com/                             Sweden                       Profit-focused coherent installation     2016                         Individual / Family Services                 7645\n",
      "44     45  235fdEFE2cfDa5F                  Brock-Blackwell               http://www.small.com/                              Benin                               Secured foreground emulation     1986                                    Online Publishing                 7034\n",
      "45     46  1eD64cFe986BBbE                   Walton-Barnett        https://ashley-schaefer.com/                     Western Sahara                     Right-sized clear-thinking flexibility     2001                               Luxury Goods / Jewelry                 1746\n",
      "46     47  CbBbFcdd0eaE2cF                  Bartlett-Arroyo                   https://cruz.com/           Northern Mariana Islands                                Realigned didactic function     1976                          Civic / Social Organization                 3987\n",
      "47     48  49aECbDaE6aBD53       Wallace, Madden and Morris   http://www.blevins-fernandez.biz/                            Germany                      Persistent real-time customer loyalty     2016                                      Pharmaceuticals                 9443\n",
      "48     49  7b3fe6e7E72bFa4                      Berg-Sparks          https://cisneros-love.com/                             Canada                          Stand-alone static implementation     1974                                        Arts / Crafts                 2073\n",
      "49     50  c6DedA82A8aef7E                     Gonzales Ltd                    http://bird.com/                              Tonga                              Managed human-resource policy     1988                                       Consumer Goods                 9069\n",
      "50     51  7D9FBF85cdC3871                  Lawson and Sons               https://www.wong.com/        French Southern Territories                              Compatible analyzing intranet     2021                                        Arts / Crafts                 3527\n",
      "51     52  7dd18Fb7cB07b65     Mcguire, Mcconnell and Olsen          https://melton-briggs.com/                              Korea                               Profound client-server frame     1988                                             Printing                 8445\n",
      "52     53  EF5B55FadccB8Fe                 Charles-Phillips                 https://bowman.com/                      Cote d'Ivoire                     Monitored client-server implementation     2012                                   Mental Health Care                 3450\n",
      "53     54  f8D4B99e11fAF5D                         Odom Ltd      https://www.humphrey-hess.com/                      Cote d'Ivoire                        Advanced static process improvement     2012                                Management Consulting                 1825\n",
      "54     55  e24D21BFd3bF1E5                      Richard PLC         https://holden-coleman.net/                            Mayotte                              Object-based optimizing model     1971                                      Broadcast Media                 4942\n",
      "55     56  B9BdfEB6D3Ca44E                      Sampson Ltd                https://blevins.com/                     Cayman Islands                                    Intuitive local adapter     2005                                              Farming                 1418\n",
      "56     57  2a74D6f3D3B268e          Cherry, Le and Callahan        https://waller-delacruz.biz/                            Nigeria                     Universal human-resource collaboration     2017                     Entertainment / Movie Production                 7202\n",
      "57     58  Bf3F3f62c8aBC33                       Cherry PLC             https://www.avila.info/                   Marshall Islands                                Persistent tertiary website     1980                                             Plastics                 8245\n",
      "58     59  aeBe26B80a7a23c                   Melton-Nichols                https://kennedy.com/                              Palau                  User-friendly clear-thinking productivity     2021                                   Legislative Office                 8741\n",
      "59     60  aAeb29ad43886C6                     Potter-Walsh           http://thomas-french.org/                             Turkey                          Optional non-volatile open system     2008                                 Human Resources / HR                 6923\n",
      "60     61  bD1bc6bB6d1FeD3                     Freeman-Chen                 https://mathis.com/                        Timor-Leste                             Phased next generation adapter     1973                    International Trade / Development                  346\n",
      "61     62  EB9f456e8b7022a                       Soto Group                https://norris.info/                            Vietnam                     Enterprise-wide executive installation     1988                        Business Supplies / Equipment                 9097\n",
      "62     63  Dfef38C51D8DAe3          Poole, Cruz and Whitney                  https://reed.info/                            Reunion                               Balanced analyzing groupware     1978                      Marketing / Advertising / Sales                 2992\n",
      "63     64  055ffEfB2Dd95B0                        Riley Ltd                   http://wiley.com/                             Brazil                            Optional exuding superstructure     1986                                             Textiles                 9315\n",
      "64     65  cBfe4dbAE1699da     Erickson, Andrews and Bailey        https://www.hobbs-grant.com/                            Eritrea                          Vision-oriented secondary project     2014                                 Consumer Electronics                 7829\n",
      "65     66  fdFbecbadcdCdf1    Wilkinson, Charles and Arroyo        http://hunter-mcfarland.com/       United States Virgin Islands                                   Assimilated 24/7 archive     1996                                   Building Materials                  602\n",
      "66     67  5DCb8A5a5ca03c0                        Floyd Ltd             http://www.whitney.com/        Falkland Islands (Malvinas)                      Function-based fault-tolerant concept     2017                                Public Relations / PR                 2911\n",
      "67     68  ce57DCbcFD6d618                  Newman-Galloway              https://www.scott.com/                         Luxembourg                          Enhanced foreground collaboration     1987                          Information Technology / IT                 3934\n",
      "68     69  5aaD187dc929371                   Frazier-Butler  https://www.daugherty-farley.info/           Northern Mariana Islands                             Persistent interactive circuit     1972                             Outsourcing / Offshoring                 5130\n",
      "69     70  902D7Ac8b6d476b                       Newton Inc  https://www.richmond-manning.info/               Netherlands Antilles                          Fundamental stable info-mediaries     1976                                    Military Industry                  563\n",
      "70     71  32BB9Ff4d939788                       Duffy-Levy             https://www.potter.com/                           Guernsey                               Diverse exuding installation     1982                                             Wireless                 6146\n",
      "71     72  adcB0afbE58bAe3                       Wagner LLC         https://decker-esparza.com/                            Uruguay                         Reactive attitude-oriented toolset     1987                                International Affairs                 6874\n",
      "72     73  dfcA1c84AdB61Ac                    Mccall-Holmes                http://www.dean.com/                              Benin                          Object-based value-added database     2009                                       Legal Services                  696\n",
      "73     74  208044AC2fe52F3                       Massey LLC                https://frazier.biz/                           Suriname  Configurable zero administration Graphical User Interface     1986                                           Accounting                 5004\n",
      "74     75  f3C365f0c1A0623                        Hicks LLC                 http://alvarez.biz/                           Pakistan     Quality-focused client-server Graphical User Interface     1970                      Computer Software / Engineering                 8480\n",
      "75     76  ec5Bdd3CBAfaB93          Cole, Russell and Avery         http://www.blankenship.com/                           Mongolia                     De-engineered fault-tolerant challenge     2000                                      Law Enforcement                 7012\n",
      "76     77  DDB19Be7eeB56B4                   Cummings-Rojas          https://simon-pearson.com/       Svalbard & Jan Mayen Islands                      User-centric modular customer loyalty     2012                                   Financial Services                 7529\n",
      "77     78  dd6CA3d0bc3cAfc      Beasley, Greene and Mahoney   http://www.petersen-lawrence.com/                               Togo                         Extended content-based methodology     1976                               Religious Institutions                  869\n",
      "78     79  A0B9d56e61070e3        Beasley, Sims and Allison                  http://burke.info/                             Latvia                                 Secured zero tolerance hub     1972                                  Facilities Services                 6182\n",
      "79     80  cBa7EFe5D05Adaf                  Crawford-Rivera          https://black-ramirez.org/                               Cuba                   Persevering exuding budgetary management     1999                                    Online Publishing                 7805\n",
      "80     81  Ea3f6D52Ec73563                   Montes-Hensley                https://krueger.org/                      Liechtenstein                        Multi-tiered secondary productivity     2009                                             Printing                 8433\n",
      "81     82  bC0CEd48A8000E0                   Velazquez-Odom                 https://stokes.com/                           Djibouti                         Streamlined 6thgeneration function     2002                       Alternative Dispute Resolution                 4044\n",
      "82     83  c89b9b59BC4baa1                    Eaton-Morales      https://www.reeves-graham.com/                         Micronesia                            Customer-focused explicit frame     1990        Capital Markets / Hedge Fund / Private Equity                 7013\n",
      "83     84  FEC51bce8421a7b  Roberson, Pennington and Palmer        http://www.keith-fisher.com/                           Cameroon                          Adaptive bi-directional hierarchy     1993                                   Telecommunications                 5571\n",
      "84     85  e0E8e27eAc9CAd5         George, Russo and Guerra                  https://drake.com/                             Sweden                        Centralized non-volatile capability     1989                                    Military Industry                 2880\n",
      "85     86  B97a6CF9bf5983C                       Davila Inc             https://mcconnell.info/            Cocos (Keeling) Islands                             Profit-focused dedicated frame     2017                                 Consumer Electronics                 2215\n",
      "86     87  a0a6f9b3DbcBEb5                     Mays-Preston        http://www.browning-key.com/                               Mali                         User-centric heuristic focus group     2006                                    Military Industry                 5786\n",
      "87     88  8cC1bDa330a5871                    Pineda-Morton               https://www.carr.com/       United States Virgin Islands                      Grass-roots methodical info-mediaries     1991                                             Printing                 6168\n",
      "88     89  ED889CB2FE9cbd3                   Huang and Sons             https://www.bolton.com/                            Eritrea                        Re-contextualized dynamic hierarchy     1981                                       Semiconductors                 7484\n",
      "89     90  F4Dc1417BC6cb8f                    Gilbert-Simon           https://www.bradford.biz/                            Burundi                            Grass-roots radical parallelism     1973                              Newspapers / Journalism                 1927\n",
      "90     91  7ABc3c7ecA03B34                 Sampson-Griffith               http://hendricks.org/                              Benin                           Multi-layered composite paradigm     1972                                             Textiles                 3881\n",
      "91     92  4e0719FBE38e0aB                  Miles-Dominguez              http://www.turner.com/                          Gibraltar                              Organized empowering forecast     1996                          Civic / Social Organization                  897\n",
      "92     93  dEbDAAeDfaed00A                    Rowe and Sons            https://www.simpson.org/                        El Salvador                          Balanced multimedia knowledgebase     1978                                  Facilities Services                 8172\n",
      "93     94  61BDeCfeFD0cEF5   Valenzuela, Holmes and Rowland             https://www.dorsey.net/                             Taiwan                            Persistent tertiary focus group     1999                                       Transportation                 1483\n",
      "94     95  4e91eD25f486110           Best, Wade and Shepard              https://zimmerman.com/                           Zimbabwe                           Innovative background definition     1991                                   Gambling / Casinos                 4873\n",
      "95     96  0a0bfFbBbB8eC7c                     Holmes Group               https://mcdowell.org/                           Ethiopia                     Right-sized zero tolerance focus group     1975                                          Photography                 2988\n",
      "96     97  BA6Cd9Dae2Efd62                         Good Ltd                   http://duffy.com/                           Anguilla                    Reverse-engineered composite moratorium     1971                                    Consumer Services                 4292\n",
      "97     98  E7df80C60Abd7f9                Clements-Espinoza             http://www.flowers.net/        Falkland Islands (Malvinas)                                    Progressive modular hub     1991                                      Broadcast Media                  236\n",
      "98     99  AFc285dbE2fEd24                       Mendez Inc              https://www.burke.net/                    Kyrgyz Republic                            User-friendly exuding migration     1993                                 Education Management                  339\n",
      "99    100  e9eB5A60Cef8354                   Watkins-Kaiser             http://www.herring.com/                               Togo                              Synergistic background access     2009                                   Financial Services                 2785\n"
     ]
    }
   ],
   "source": [
    "import pandas as pd\n",
    "import matplotlib.pyplot as plt\n",
    "\n",
    "df = pd.read_csv('organizations-100.csv')\n",
    "\n",
    "print(df.to_string())"
   ]
  },
  {
   "cell_type": "code",
   "execution_count": 2,
   "metadata": {},
   "outputs": [
    {
     "name": "stdout",
     "output_type": "stream",
     "text": [
      "4\n"
     ]
    }
   ],
   "source": [
    "i = 0\n",
    "for x in df[\"Industry\"]:\n",
    "    if x == \"Plastics\":\n",
    "        i = i+1\n",
    "print(i)"
   ]
  },
  {
   "cell_type": "code",
   "execution_count": 3,
   "metadata": {},
   "outputs": [
    {
     "name": "stdout",
     "output_type": "stream",
     "text": [
      "4964.86\n"
     ]
    }
   ],
   "source": [
    "x = df[\"Number of employees\"].mean()\n",
    "y = df[\"Founded\"].mean()\n",
    "print(x)\n"
   ]
  },
  {
   "cell_type": "code",
   "execution_count": 5,
   "metadata": {},
   "outputs": [
    {
     "data": {
      "image/png": "[encoded data removed]",
      "text/plain": [
       "<Figure size 640x480 with 1 Axes>"
      ]
     },
     "metadata": {},
     "output_type": "display_data"
    }
   ],
   "source": [
    "df.plot(kind = 'hist', y = 'Founded', x = 'Number of employees')\n",
    "\n",
    "plt.show() "
   ]
  },
  {
   "cell_type": "code",
   "execution_count": null,
   "metadata": {},
   "outputs": [],
   "source": [
    "import numpy as np\n",
    "data = {\n",
    "    \"Tiempo (s)\": np.arange(0, 10, 1),  # 10 segundos de datos\n",
    "    \"Aceleración_X (m/s²)\": np.random.uniform(-2, 2, 10),  # Datos aleatorios entre -2 y 2 m/s²\n",
    "    \"Aceleración_Y (m/s²)\": np.random.uniform(-2, 2, 10),\n",
    "    \"Aceleración_Z (m/s²)\": np.random.uniform(-2, 2, 10),\n",
    "}\n",
    "\n",
    "rf = pd.DataFrame(data)\n",
    "josesito = np.mean(rf[\"Aceleración_X (m/s²)\"])\n",
    "print(josesito)\n",
    "    "
   ]
  }
 ],
 "metadata": {
  "kernelspec": {
   "display_name": "Python 3",
   "language": "python",
   "name": "python3"
  },
  "language_info": {
   "codemirror_mode": {
    "name": "ipython",
    "version": 3
   },
   "file_extension": ".py",
   "mimetype": "text/x-python",
   "name": "python",
   "nbconvert_exporter": "python",
   "pygments_lexer": "ipython3",
   "version": "3.11.2"
  }
 },
 "nbformat": 4,
 "nbformat_minor": 2
}
